{
 "cells": [
  {
   "cell_type": "code",
   "execution_count": 1,
   "id": "a4efa4e4",
   "metadata": {},
   "outputs": [
    {
     "name": "stdout",
     "output_type": "stream",
     "text": [
      "Populating the interactive namespace from numpy and matplotlib\n"
     ]
    }
   ],
   "source": [
    "%pylab inline\n",
    "from scipy.optimize import minimize_scalar"
   ]
  },
  {
   "cell_type": "code",
   "execution_count": 2,
   "id": "dbbe25f5",
   "metadata": {},
   "outputs": [],
   "source": [
    "def ent(p, base = 2.):\n",
    "    r\"\"\"Takes as input a 1-d numpy array and base, returns the Shannon entropy \n",
    "    in given base. \n",
    "    \n",
    "    Parameters\n",
    "    ----------\n",
    "    p : numpy array\n",
    "        1-d array \n",
    "    \n",
    "    base : float\n",
    "           Base for the log\n",
    "    \n",
    "    Returns\n",
    "    ----------\n",
    "    ent : float\n",
    "          :math: '-\\sum_i p_i*\\log_b p_i'\n",
    "    \n",
    "    Notes\n",
    "    ----------\n",
    "    If any of entry in the input is negative it throws an error.\n",
    "    \"\"\"\n",
    "    \n",
    "    if any(p<0.):\n",
    "        raise ValueError('In ent not all arguments positive')\n",
    "    \n",
    "    x = p[p>0.]\n",
    "    \n",
    "    ent = -np.dot(x, np.log(x))/np.log(base)\n",
    "    return ent"
   ]
  },
  {
   "cell_type": "code",
   "execution_count": 3,
   "id": "97b1aa9a",
   "metadata": {},
   "outputs": [],
   "source": [
    "def enDiffB(w,s):\n",
    "    r\"\"\"Takes as input the parameters s and w, where w represents\n",
    "    an eigenvalue of the input density operator for channel 1, s\n",
    "    a parameter in channel 1. Returns the entropy difference\n",
    "    for channel 1\n",
    "    \n",
    "    Parameters\n",
    "    ----------\n",
    "    w : float\n",
    "\n",
    "    s : float\n",
    "    \n",
    "    Returns\n",
    "    ----------\n",
    "    diff : float\n",
    "           entropy difference S(C) - S(B)\n",
    "    \"\"\"\n",
    "    eigB = np.array([w,s*(1-w),(1-s)*(1-w)])\n",
    "    eigC = np.array([s*(1-w),1-s*(1-w)])\n",
    "    SB = ent(eigB)\n",
    "    SC = ent(eigC)\n",
    "    diff = SC - SB\n",
    "    return diff\n",
    "    "
   ]
  },
  {
   "cell_type": "code",
   "execution_count": 4,
   "id": "3823f0db",
   "metadata": {},
   "outputs": [],
   "source": [
    "def q1B(s):\n",
    "    r\"\"\"Takes as input the parameters s defining channel 1. \n",
    "    Returns the maximum entropy difference and the\n",
    "    eigenvalue w that optimized the entropy difference\n",
    "    \n",
    "    Parameters\n",
    "    ----------    \n",
    "    w : float\n",
    "    \n",
    "    Returns\n",
    "    ----------\n",
    "    q1 : float\n",
    "         maximum coherent information of channel 1\n",
    "    \n",
    "    wStar : float\n",
    "            eigenvalue w in the optimizing density operator\n",
    "            (1-w)[0] + w[1]\n",
    "    \"\"\"\n",
    "    res = minimize_scalar(enDiffB, bounds=(0, 1), args=(s,),method='bounded') \n",
    "    \n",
    "    (q1,wStar) =  (-1.*res.fun,res.x)\n",
    "    return (q1,wStar)"
   ]
  },
  {
   "cell_type": "code",
   "execution_count": 5,
   "id": "5cf875e8",
   "metadata": {},
   "outputs": [],
   "source": [
    "def pBar(s):\n",
    "    r\"\"\"Takes as input the parameter s for channel 1\n",
    "    and returns the parameter 1/2 <= p <= 1 for channel 2 below\n",
    "    which the b output has a stronger log-singularity than the\n",
    "    c output\n",
    "    \n",
    "    Parameters\n",
    "    ----------\n",
    "    s : float\n",
    "    \n",
    "    Returns\n",
    "    ----------\n",
    "    pSt : float\n",
    "    \"\"\"\n",
    "    (q1,w) = q1B(s)\n",
    "    kVal = (1-s)*(1-w)\n",
    "    kVal = kVal/(w + kVal)\n",
    "    pBar = 1/(1+kVal)\n",
    "    return pBar"
   ]
  },
  {
   "cell_type": "code",
   "execution_count": 6,
   "id": "5174ced0",
   "metadata": {},
   "outputs": [],
   "source": [
    "sVal = []\n",
    "pVal = []\n",
    "for s in np.linspace(1e-10,.5,25):\n",
    "    sVal += [s]\n",
    "    pVal += [pBar(s)]"
   ]
  },
  {
   "cell_type": "code",
   "execution_count": 7,
   "id": "a674cc91",
   "metadata": {},
   "outputs": [],
   "source": [
    "sVal = np.array(sVal)\n",
    "pVal = np.array(pVal)\n"
   ]
  },
  {
   "cell_type": "code",
   "execution_count": 8,
   "id": "90a8e487",
   "metadata": {},
   "outputs": [],
   "source": [
    "#Production quality plots\n",
    "plt.style.use('default')\n",
    "plt.rc('text',usetex=True)\n",
    "plt.rc('lines', linewidth=1)\n"
   ]
  },
  {
   "cell_type": "code",
   "execution_count": 9,
   "id": "b8a52e2c",
   "metadata": {},
   "outputs": [
    {
     "data": {
      "image/png": "[encoded data removed]",
      "text/plain": [
       "<Figure size 640x480 with 1 Axes>"
      ]
     },
     "metadata": {},
     "output_type": "display_data"
    }
   ],
   "source": [
    "fntSz = 20\n",
    "fntSz1 = 14\n",
    "fig, ax1 = plt.subplots()\n",
    "\n",
    "ax1.set_xlim(0,.5)\n",
    "ax1.set_ylim(.64,.74)\n",
    "\n",
    "ax1.set_ylabel(r'$p$',labelpad=10,size=fntSz,rotation='horizontal')\n",
    "ax1.set_xlabel(r'$s$',labelpad=1,size=fntSz)\n",
    "\n",
    "ax1.plot(sVal, pVal,c='k',label=r'$\\bar p(s)$')\n",
    "ax1.text(.25,.70,r'$\\bar p(s)$',fontsize=fntSz)\n",
    "\n",
    "\n",
    "ax1.tick_params(direction='out',top=0,right=0,labelsize=fntSz1)\n",
    "ax1.tick_params(axis='y',labelright=0,labelleft=1)\n",
    "\n",
    "\n",
    "ax1.set_xticks([0,1e-1,2e-1,3e-1,4e-1,5e-1])\n",
    "ax1.set_xticklabels(['$0$','$0.1$', r'$0.2$', r'$0.3$', r'$0.4$', r'$0.5$'])\n",
    "\n",
    "\n",
    "ax1.set_yticks([.64,.66,.68,.7,.72,.74])\n",
    "ax1.set_yticklabels(['$0.64$','$0.66$', r'$0.68$', r'$0.70$', r'$0.72$', r'$0.74$'])\n",
    "\n",
    "ax1.set_aspect(2)\n",
    "savefig('FigD.pdf',dpi=400,bbox_inches='tight',transparent=True)"
   ]
  },
  {
   "cell_type": "code",
   "execution_count": null,
   "id": "36137c29",
   "metadata": {},
   "outputs": [],
   "source": []
  }
 ],
 "metadata": {
  "kernelspec": {
   "display_name": "Python 3 (ipykernel)",
   "language": "python",
   "name": "python3"
  },
  "language_info": {
   "codemirror_mode": {
    "name": "ipython",
    "version": 3
   },
   "file_extension": ".py",
   "mimetype": "text/x-python",
   "name": "python",
   "nbconvert_exporter": "python",
   "pygments_lexer": "ipython3",
   "version": "3.8.10"
  }
 },
 "nbformat": 4,
 "nbformat_minor": 5
}
